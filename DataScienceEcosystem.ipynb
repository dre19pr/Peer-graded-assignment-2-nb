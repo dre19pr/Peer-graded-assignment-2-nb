{
 "cells": [
  {
   "cell_type": "markdown",
   "id": "829b19ea",
   "metadata": {},
   "source": [
    "# Data Science Tools and Ecosystem"
   ]
  },
  {
   "cell_type": "markdown",
   "id": "c7057d34",
   "metadata": {},
   "source": [
    "I'm learning to become a data analyst by explaining Data Science Tools and their Ecosystems."
   ]
  },
  {
   "cell_type": "markdown",
   "id": "92d79c18",
   "metadata": {},
   "source": [
    "The most popular Data Science Languages are:\n",
    "\n",
    "1. Python\n",
    "2. R\n",
    "3. Standard Query Language"
   ]
  },
  {
   "cell_type": "markdown",
   "id": "35f88b0f",
   "metadata": {},
   "source": [
    "A few of the most frequently used data science libraries are:\n",
    "\n",
    "1. Pandas\n",
    "2. Numpy\n",
    "3. Matplotlib"
   ]
  },
  {
   "cell_type": "markdown",
   "id": "b0d9036e",
   "metadata": {},
   "source": [
    "|## Data Science Tools|\n",
    "|-----|\n",
    "|Jupyter Notebook|\n",
    "|RStudio|\n",
    "|Spyder|"
   ]
  },
  {
   "cell_type": "markdown",
   "id": "6d3e2773",
   "metadata": {},
   "source": [
    "### Here are a few Sample Arithmetic Expression Evaluations"
   ]
  },
  {
   "cell_type": "code",
   "execution_count": 1,
   "id": "c8044986",
   "metadata": {},
   "outputs": [
    {
     "data": {
      "text/plain": [
       "17"
      ]
     },
     "execution_count": 1,
     "metadata": {},
     "output_type": "execute_result"
    }
   ],
   "source": [
    "\"This arithmetic expression allows us to multiply then add integers\"\n",
    "\n",
    "(3*4)+5"
   ]
  },
  {
   "cell_type": "code",
   "execution_count": 2,
   "id": "6a70ce45",
   "metadata": {},
   "outputs": [
    {
     "data": {
      "text/plain": [
       "3.3333333333333335"
      ]
     },
     "execution_count": 2,
     "metadata": {},
     "output_type": "execute_result"
    }
   ],
   "source": [
    "\"This equation will convert 200 minutes into hours by dividing by 60\"\n",
    "\n",
    "200/60"
   ]
  },
  {
   "cell_type": "markdown",
   "id": "fe7ce91a",
   "metadata": {},
   "source": [
    "_Objectives:_ \n",
    "+ List data science libraries\n",
    "+ List popular data science tools\n",
    "+ type arithmetic expressions that allow us to multiply and add integers"
   ]
  },
  {
   "cell_type": "markdown",
   "id": "2c20b61f",
   "metadata": {},
   "source": [
    "## Author\n",
    "\n",
    "Andrew Thompson"
   ]
  },
  {
   "cell_type": "code",
   "execution_count": null,
   "id": "f68fbb25",
   "metadata": {},
   "outputs": [],
   "source": []
  }
 ],
 "metadata": {
  "kernelspec": {
   "display_name": "Python 3 (ipykernel)",
   "language": "python",
   "name": "python3"
  },
  "language_info": {
   "codemirror_mode": {
    "name": "ipython",
    "version": 3
   },
   "file_extension": ".py",
   "mimetype": "text/x-python",
   "name": "python",
   "nbconvert_exporter": "python",
   "pygments_lexer": "ipython3",
   "version": "3.9.13"
  }
 },
 "nbformat": 4,
 "nbformat_minor": 5
}
